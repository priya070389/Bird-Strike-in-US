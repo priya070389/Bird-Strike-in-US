{
 "cells": [
  {
   "cell_type": "code",
   "execution_count": 1,
   "id": "64965c29",
   "metadata": {},
   "outputs": [],
   "source": [
    "import pandas as pd"
   ]
  },
  {
   "cell_type": "code",
   "execution_count": 2,
   "id": "acd7fb2a",
   "metadata": {},
   "outputs": [
    {
     "data": {
      "text/plain": [
       "'C:\\\\Users\\\\Sahil'"
      ]
     },
     "execution_count": 2,
     "metadata": {},
     "output_type": "execute_result"
    }
   ],
   "source": [
    "pwd"
   ]
  },
  {
   "cell_type": "code",
   "execution_count": 3,
   "id": "9c3388ca",
   "metadata": {},
   "outputs": [],
   "source": [
    "df = pd.read_csv(\"C:\\\\Users\\\\Sahil\\\\Downloads\\\\Cleaned_Bird Strikes data.xlsx - Bird Strikes.csv\")"
   ]
  },
  {
   "cell_type": "code",
   "execution_count": 4,
   "id": "9caf14f7",
   "metadata": {},
   "outputs": [
    {
     "data": {
      "text/plain": [
       "(25558, 26)"
      ]
     },
     "execution_count": 4,
     "metadata": {},
     "output_type": "execute_result"
    }
   ],
   "source": [
    "df.shape"
   ]
  },
  {
   "cell_type": "code",
   "execution_count": 5,
   "id": "68c9fbc1",
   "metadata": {},
   "outputs": [
    {
     "data": {
      "text/plain": [
       "Record ID                                     0\n",
       "Aircraft: Type                              129\n",
       "Airport: Name                               129\n",
       "Altitude bin                                129\n",
       "Aircraft: Make/Model                          0\n",
       "Wildlife: Number struck                     129\n",
       "Wildlife: Number Struck Actual                0\n",
       "Effect: Impact to flight                    129\n",
       "FlightDate                                  129\n",
       "Effect: Indicated Damage                      0\n",
       "Aircraft: Number of engines?                267\n",
       "Aircraft: Airline/Operator                  129\n",
       "Origin State                                449\n",
       "When: Phase of flight                       129\n",
       "Conditions: Precipitation                     0\n",
       "Remains of wildlife collected?                0\n",
       "Remains of wildlife sent to Smithsonian       0\n",
       "Remarks                                    4771\n",
       "Wildlife: Size                              129\n",
       "Conditions: Sky                               0\n",
       "Wildlife: Species                             0\n",
       "Pilot warned of birds or wildlife?          129\n",
       "Cost: Total $                                 0\n",
       "Feet above ground                           129\n",
       "Number of people injured                      0\n",
       "Is Aircraft Large?                          129\n",
       "dtype: int64"
      ]
     },
     "execution_count": 5,
     "metadata": {},
     "output_type": "execute_result"
    }
   ],
   "source": [
    "df.isnull().sum()"
   ]
  },
  {
   "cell_type": "code",
   "execution_count": 6,
   "id": "f95c6d83",
   "metadata": {},
   "outputs": [],
   "source": [
    "df.dropna(inplace = True)"
   ]
  },
  {
   "cell_type": "code",
   "execution_count": 7,
   "id": "05764fd2",
   "metadata": {},
   "outputs": [
    {
     "data": {
      "text/plain": [
       "Record ID                                  0\n",
       "Aircraft: Type                             0\n",
       "Airport: Name                              0\n",
       "Altitude bin                               0\n",
       "Aircraft: Make/Model                       0\n",
       "Wildlife: Number struck                    0\n",
       "Wildlife: Number Struck Actual             0\n",
       "Effect: Impact to flight                   0\n",
       "FlightDate                                 0\n",
       "Effect: Indicated Damage                   0\n",
       "Aircraft: Number of engines?               0\n",
       "Aircraft: Airline/Operator                 0\n",
       "Origin State                               0\n",
       "When: Phase of flight                      0\n",
       "Conditions: Precipitation                  0\n",
       "Remains of wildlife collected?             0\n",
       "Remains of wildlife sent to Smithsonian    0\n",
       "Remarks                                    0\n",
       "Wildlife: Size                             0\n",
       "Conditions: Sky                            0\n",
       "Wildlife: Species                          0\n",
       "Pilot warned of birds or wildlife?         0\n",
       "Cost: Total $                              0\n",
       "Feet above ground                          0\n",
       "Number of people injured                   0\n",
       "Is Aircraft Large?                         0\n",
       "dtype: int64"
      ]
     },
     "execution_count": 7,
     "metadata": {},
     "output_type": "execute_result"
    }
   ],
   "source": [
    "df.isnull().sum() #this implies our data is now free from null values."
   ]
  },
  {
   "cell_type": "code",
   "execution_count": 8,
   "id": "53d5227e",
   "metadata": {},
   "outputs": [
    {
     "data": {
      "text/plain": [
       "(20142, 26)"
      ]
     },
     "execution_count": 8,
     "metadata": {},
     "output_type": "execute_result"
    }
   ],
   "source": [
    "df.shape"
   ]
  },
  {
   "cell_type": "code",
   "execution_count": 9,
   "id": "e4ecb15d",
   "metadata": {},
   "outputs": [],
   "source": [
    "duplicates = df[df.duplicated()]"
   ]
  },
  {
   "cell_type": "code",
   "execution_count": 10,
   "id": "f6fd5691",
   "metadata": {},
   "outputs": [
    {
     "data": {
      "text/html": [
       "<div>\n",
       "<style scoped>\n",
       "    .dataframe tbody tr th:only-of-type {\n",
       "        vertical-align: middle;\n",
       "    }\n",
       "\n",
       "    .dataframe tbody tr th {\n",
       "        vertical-align: top;\n",
       "    }\n",
       "\n",
       "    .dataframe thead th {\n",
       "        text-align: right;\n",
       "    }\n",
       "</style>\n",
       "<table border=\"1\" class=\"dataframe\">\n",
       "  <thead>\n",
       "    <tr style=\"text-align: right;\">\n",
       "      <th></th>\n",
       "      <th>Record ID</th>\n",
       "      <th>Aircraft: Type</th>\n",
       "      <th>Airport: Name</th>\n",
       "      <th>Altitude bin</th>\n",
       "      <th>Aircraft: Make/Model</th>\n",
       "      <th>Wildlife: Number struck</th>\n",
       "      <th>Wildlife: Number Struck Actual</th>\n",
       "      <th>Effect: Impact to flight</th>\n",
       "      <th>FlightDate</th>\n",
       "      <th>Effect: Indicated Damage</th>\n",
       "      <th>...</th>\n",
       "      <th>Remains of wildlife sent to Smithsonian</th>\n",
       "      <th>Remarks</th>\n",
       "      <th>Wildlife: Size</th>\n",
       "      <th>Conditions: Sky</th>\n",
       "      <th>Wildlife: Species</th>\n",
       "      <th>Pilot warned of birds or wildlife?</th>\n",
       "      <th>Cost: Total $</th>\n",
       "      <th>Feet above ground</th>\n",
       "      <th>Number of people injured</th>\n",
       "      <th>Is Aircraft Large?</th>\n",
       "    </tr>\n",
       "  </thead>\n",
       "  <tbody>\n",
       "  </tbody>\n",
       "</table>\n",
       "<p>0 rows × 26 columns</p>\n",
       "</div>"
      ],
      "text/plain": [
       "Empty DataFrame\n",
       "Columns: [Record ID, Aircraft: Type, Airport: Name, Altitude bin, Aircraft: Make/Model, Wildlife: Number struck, Wildlife: Number Struck Actual, Effect: Impact to flight, FlightDate, Effect: Indicated Damage, Aircraft: Number of engines?, Aircraft: Airline/Operator, Origin State, When: Phase of flight, Conditions: Precipitation, Remains of wildlife collected?, Remains of wildlife sent to Smithsonian, Remarks, Wildlife: Size, Conditions: Sky, Wildlife: Species, Pilot warned of birds or wildlife?, Cost: Total $, Feet above ground, Number of people injured, Is Aircraft Large?]\n",
       "Index: []\n",
       "\n",
       "[0 rows x 26 columns]"
      ]
     },
     "execution_count": 10,
     "metadata": {},
     "output_type": "execute_result"
    }
   ],
   "source": [
    "duplicates #this clearly implies that our data is free of duplicate values."
   ]
  },
  {
   "cell_type": "code",
   "execution_count": 11,
   "id": "9ea3fce3",
   "metadata": {},
   "outputs": [],
   "source": [
    "df.to_csv(\"C:\\\\Users\\\\Sahil\\\\Downloads\\\\Cleaned_Bird_Strike.csv\")"
   ]
  },
  {
   "cell_type": "code",
   "execution_count": null,
   "id": "48d4dc52",
   "metadata": {},
   "outputs": [],
   "source": []
  }
 ],
 "metadata": {
  "kernelspec": {
   "display_name": "Python 3 (ipykernel)",
   "language": "python",
   "name": "python3"
  },
  "language_info": {
   "codemirror_mode": {
    "name": "ipython",
    "version": 3
   },
   "file_extension": ".py",
   "mimetype": "text/x-python",
   "name": "python",
   "nbconvert_exporter": "python",
   "pygments_lexer": "ipython3",
   "version": "3.9.12"
  }
 },
 "nbformat": 4,
 "nbformat_minor": 5
}
